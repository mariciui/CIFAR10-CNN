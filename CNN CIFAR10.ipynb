{
 "cells": [
  {
   "cell_type": "code",
   "execution_count": 1,
   "metadata": {},
   "outputs": [
    {
     "name": "stderr",
     "output_type": "stream",
     "text": [
      "C:\\Users\\Maria\\anaconda3\\lib\\site-packages\\tensorboard\\compat\\tensorflow_stub\\dtypes.py:541: FutureWarning: Passing (type, 1) or '1type' as a synonym of type is deprecated; in a future version of numpy, it will be understood as (type, (1,)) / '(1,)type'.\n",
      "  _np_qint8 = np.dtype([(\"qint8\", np.int8, 1)])\n",
      "C:\\Users\\Maria\\anaconda3\\lib\\site-packages\\tensorboard\\compat\\tensorflow_stub\\dtypes.py:542: FutureWarning: Passing (type, 1) or '1type' as a synonym of type is deprecated; in a future version of numpy, it will be understood as (type, (1,)) / '(1,)type'.\n",
      "  _np_quint8 = np.dtype([(\"quint8\", np.uint8, 1)])\n",
      "C:\\Users\\Maria\\anaconda3\\lib\\site-packages\\tensorboard\\compat\\tensorflow_stub\\dtypes.py:543: FutureWarning: Passing (type, 1) or '1type' as a synonym of type is deprecated; in a future version of numpy, it will be understood as (type, (1,)) / '(1,)type'.\n",
      "  _np_qint16 = np.dtype([(\"qint16\", np.int16, 1)])\n",
      "C:\\Users\\Maria\\anaconda3\\lib\\site-packages\\tensorboard\\compat\\tensorflow_stub\\dtypes.py:544: FutureWarning: Passing (type, 1) or '1type' as a synonym of type is deprecated; in a future version of numpy, it will be understood as (type, (1,)) / '(1,)type'.\n",
      "  _np_quint16 = np.dtype([(\"quint16\", np.uint16, 1)])\n",
      "C:\\Users\\Maria\\anaconda3\\lib\\site-packages\\tensorboard\\compat\\tensorflow_stub\\dtypes.py:545: FutureWarning: Passing (type, 1) or '1type' as a synonym of type is deprecated; in a future version of numpy, it will be understood as (type, (1,)) / '(1,)type'.\n",
      "  _np_qint32 = np.dtype([(\"qint32\", np.int32, 1)])\n",
      "C:\\Users\\Maria\\anaconda3\\lib\\site-packages\\tensorboard\\compat\\tensorflow_stub\\dtypes.py:550: FutureWarning: Passing (type, 1) or '1type' as a synonym of type is deprecated; in a future version of numpy, it will be understood as (type, (1,)) / '(1,)type'.\n",
      "  np_resource = np.dtype([(\"resource\", np.ubyte, 1)])\n"
     ]
    }
   ],
   "source": [
    "from tensorflow.keras.datasets import cifar10\n",
    "from tensorflow.keras.models import Sequential\n",
    "from tensorflow.keras.layers import Dense, Flatten, Conv2D, MaxPooling2D\n",
    "from tensorflow.keras.losses import sparse_categorical_crossentropy\n",
    "from tensorflow.keras.optimizers import Adam\n",
    "import matplotlib.pyplot as plt"
   ]
  },
  {
   "cell_type": "code",
   "execution_count": 2,
   "metadata": {},
   "outputs": [],
   "source": [
    "batch_size = 50\n",
    "img_width, img_height, img_num_channels = 32, 32, 3\n",
    "loss_function = sparse_categorical_crossentropy\n",
    "no_classes = 10\n",
    "no_epochs = 100\n",
    "optimizer = Adam()\n",
    "validation_split = 0.2\n",
    "verbosity = 1"
   ]
  },
  {
   "cell_type": "code",
   "execution_count": 3,
   "metadata": {},
   "outputs": [],
   "source": [
    "(input_train, target_train), (input_test, target_test) = cifar10.load_data()"
   ]
  },
  {
   "cell_type": "code",
   "execution_count": 4,
   "metadata": {},
   "outputs": [],
   "source": [
    "input_shape = (img_width, img_height, img_num_channels)"
   ]
  },
  {
   "cell_type": "code",
   "execution_count": 5,
   "metadata": {},
   "outputs": [],
   "source": [
    "input_train = input_train.astype('float32')\n",
    "input_test = input_test.astype('float32')"
   ]
  },
  {
   "cell_type": "code",
   "execution_count": 6,
   "metadata": {},
   "outputs": [],
   "source": [
    "input_train = input_train / 255\n",
    "input_test = input_test / 255"
   ]
  },
  {
   "cell_type": "code",
   "execution_count": 71,
   "metadata": {},
   "outputs": [],
   "source": [
    "model = Sequential()\n",
    "model.add(Conv2D(32, kernel_size=(3, 3), activation='relu', input_shape=input_shape))\n",
    "model.add(MaxPooling2D(pool_size=(2, 2)))\n",
    "model.add(Conv2D(64, kernel_size=(3, 3), activation='relu'))\n",
    "model.add(MaxPooling2D(pool_size=(2, 2)))\n",
    "model.add(Conv2D(128, kernel_size=(3, 3), activation='relu'))\n",
    "model.add(MaxPooling2D(pool_size=(2, 2)))\n",
    "model.add(Flatten())\n",
    "model.add(Dense(256, activation='relu'))\n",
    "model.add(Dense(128, activation='relu'))\n",
    "model.add(Dense(no_classes, activation='softmax'))"
   ]
  },
  {
   "cell_type": "code",
   "execution_count": 72,
   "metadata": {},
   "outputs": [],
   "source": [
    "model.compile(loss=loss_function,\n",
    "              optimizer=optimizer,\n",
    "              metrics=['accuracy'])"
   ]
  },
  {
   "cell_type": "code",
   "execution_count": 73,
   "metadata": {},
   "outputs": [
    {
     "name": "stdout",
     "output_type": "stream",
     "text": [
      "Epoch 1/100\n",
      "800/800 [==============================] - 28s 35ms/step - loss: 1.7298 - accuracy: 0.3462 - val_loss: 1.5057 - val_accuracy: 0.4464\n",
      "Epoch 2/100\n",
      "800/800 [==============================] - 26s 33ms/step - loss: 1.3805 - accuracy: 0.4970 - val_loss: 1.2710 - val_accuracy: 0.5429\n",
      "Epoch 3/100\n",
      "800/800 [==============================] - 26s 32ms/step - loss: 1.2285 - accuracy: 0.5603 - val_loss: 1.1982 - val_accuracy: 0.5743\n",
      "Epoch 4/100\n",
      "800/800 [==============================] - 26s 33ms/step - loss: 1.1272 - accuracy: 0.5971 - val_loss: 1.1989 - val_accuracy: 0.5728\n",
      "Epoch 5/100\n",
      "800/800 [==============================] - 29s 37ms/step - loss: 1.0616 - accuracy: 0.6232 - val_loss: 1.0723 - val_accuracy: 0.6207\n",
      "Epoch 6/100\n",
      "800/800 [==============================] - 27s 34ms/step - loss: 1.0086 - accuracy: 0.6415 - val_loss: 1.0585 - val_accuracy: 0.6236\n",
      "Epoch 7/100\n",
      "800/800 [==============================] - 26s 33ms/step - loss: 0.9554 - accuracy: 0.6603 - val_loss: 1.0178 - val_accuracy: 0.6440\n",
      "Epoch 8/100\n",
      "800/800 [==============================] - 31s 39ms/step - loss: 0.9139 - accuracy: 0.6756 - val_loss: 1.0531 - val_accuracy: 0.6361\n",
      "Epoch 9/100\n",
      "800/800 [==============================] - 28s 34ms/step - loss: 0.8789 - accuracy: 0.6893 - val_loss: 1.0327 - val_accuracy: 0.6378\n",
      "Epoch 10/100\n",
      "800/800 [==============================] - 26s 33ms/step - loss: 0.8450 - accuracy: 0.7011 - val_loss: 0.9940 - val_accuracy: 0.6588\n",
      "Epoch 11/100\n",
      "800/800 [==============================] - 27s 34ms/step - loss: 0.8150 - accuracy: 0.7129 - val_loss: 0.9787 - val_accuracy: 0.6617\n",
      "Epoch 12/100\n",
      "800/800 [==============================] - 27s 33ms/step - loss: 0.7840 - accuracy: 0.7235 - val_loss: 0.9877 - val_accuracy: 0.6593\n",
      "Epoch 13/100\n",
      "800/800 [==============================] - 29s 36ms/step - loss: 0.7542 - accuracy: 0.7360 - val_loss: 1.0166 - val_accuracy: 0.6562\n",
      "Epoch 14/100\n",
      "800/800 [==============================] - 26s 33ms/step - loss: 0.7274 - accuracy: 0.7430 - val_loss: 1.0159 - val_accuracy: 0.6542\n",
      "Epoch 15/100\n",
      "800/800 [==============================] - 29s 37ms/step - loss: 0.7004 - accuracy: 0.7551 - val_loss: 0.9717 - val_accuracy: 0.6693\n",
      "Epoch 16/100\n",
      "800/800 [==============================] - 26s 33ms/step - loss: 0.6780 - accuracy: 0.7607 - val_loss: 0.9913 - val_accuracy: 0.6651\n",
      "Epoch 17/100\n",
      "800/800 [==============================] - 26s 33ms/step - loss: 0.6489 - accuracy: 0.7720 - val_loss: 1.0214 - val_accuracy: 0.6655\n",
      "Epoch 18/100\n",
      "800/800 [==============================] - 29s 36ms/step - loss: 0.6262 - accuracy: 0.7796 - val_loss: 1.0310 - val_accuracy: 0.6637\n",
      "Epoch 19/100\n",
      "800/800 [==============================] - 27s 33ms/step - loss: 0.6067 - accuracy: 0.7858 - val_loss: 0.9935 - val_accuracy: 0.6767\n",
      "Epoch 20/100\n",
      "800/800 [==============================] - 27s 33ms/step - loss: 0.5800 - accuracy: 0.7950 - val_loss: 1.0311 - val_accuracy: 0.6640\n",
      "Epoch 21/100\n",
      "800/800 [==============================] - 26s 33ms/step - loss: 0.5627 - accuracy: 0.7997 - val_loss: 1.0863 - val_accuracy: 0.6672\n",
      "Epoch 22/100\n",
      "800/800 [==============================] - 27s 34ms/step - loss: 0.5310 - accuracy: 0.8126 - val_loss: 1.1049 - val_accuracy: 0.6641\n",
      "Epoch 23/100\n",
      "800/800 [==============================] - 28s 35ms/step - loss: 0.5166 - accuracy: 0.8166 - val_loss: 1.1092 - val_accuracy: 0.6661\n",
      "Epoch 24/100\n",
      "800/800 [==============================] - 28s 35ms/step - loss: 0.4924 - accuracy: 0.8255 - val_loss: 1.1437 - val_accuracy: 0.6618\n",
      "Epoch 25/100\n",
      "800/800 [==============================] - 29s 36ms/step - loss: 0.4685 - accuracy: 0.8341 - val_loss: 1.1676 - val_accuracy: 0.6631\n",
      "Epoch 26/100\n",
      "800/800 [==============================] - 27s 34ms/step - loss: 0.4575 - accuracy: 0.8372 - val_loss: 1.2420 - val_accuracy: 0.6581\n",
      "Epoch 27/100\n",
      "800/800 [==============================] - 29s 36ms/step - loss: 0.4345 - accuracy: 0.8454 - val_loss: 1.2272 - val_accuracy: 0.6614\n",
      "Epoch 28/100\n",
      "800/800 [==============================] - 27s 34ms/step - loss: 0.4153 - accuracy: 0.8525 - val_loss: 1.2796 - val_accuracy: 0.6502\n",
      "Epoch 29/100\n",
      "800/800 [==============================] - 26s 32ms/step - loss: 0.3994 - accuracy: 0.8577 - val_loss: 1.3302 - val_accuracy: 0.6579\n",
      "Epoch 30/100\n",
      "800/800 [==============================] - 27s 33ms/step - loss: 0.3787 - accuracy: 0.8658 - val_loss: 1.3353 - val_accuracy: 0.6643\n",
      "Epoch 31/100\n",
      "800/800 [==============================] - 27s 34ms/step - loss: 0.3695 - accuracy: 0.8675 - val_loss: 1.4247 - val_accuracy: 0.6502\n",
      "Epoch 32/100\n",
      "800/800 [==============================] - 28s 35ms/step - loss: 0.3493 - accuracy: 0.8749 - val_loss: 1.4108 - val_accuracy: 0.6570\n",
      "Epoch 33/100\n",
      "800/800 [==============================] - 27s 34ms/step - loss: 0.3363 - accuracy: 0.8796 - val_loss: 1.4827 - val_accuracy: 0.6545\n",
      "Epoch 34/100\n",
      "800/800 [==============================] - 28s 35ms/step - loss: 0.3237 - accuracy: 0.8834 - val_loss: 1.5143 - val_accuracy: 0.6546\n",
      "Epoch 35/100\n",
      "800/800 [==============================] - 34s 43ms/step - loss: 0.3138 - accuracy: 0.8858 - val_loss: 1.5746 - val_accuracy: 0.6483\n",
      "Epoch 36/100\n",
      "800/800 [==============================] - 36s 45ms/step - loss: 0.2949 - accuracy: 0.8938 - val_loss: 1.6136 - val_accuracy: 0.6513\n",
      "Epoch 37/100\n",
      "800/800 [==============================] - 38s 48ms/step - loss: 0.2830 - accuracy: 0.8992 - val_loss: 1.7028 - val_accuracy: 0.6459\n",
      "Epoch 38/100\n",
      "800/800 [==============================] - 39s 49ms/step - loss: 0.2774 - accuracy: 0.8995 - val_loss: 1.6817 - val_accuracy: 0.6447\n",
      "Epoch 39/100\n",
      "800/800 [==============================] - 36s 45ms/step - loss: 0.2577 - accuracy: 0.9061 - val_loss: 1.8061 - val_accuracy: 0.6369\n",
      "Epoch 40/100\n",
      "800/800 [==============================] - 38s 47ms/step - loss: 0.2508 - accuracy: 0.9089 - val_loss: 1.7786 - val_accuracy: 0.6506\n",
      "Epoch 41/100\n",
      "800/800 [==============================] - 35s 44ms/step - loss: 0.2423 - accuracy: 0.9125 - val_loss: 1.9161 - val_accuracy: 0.6422\n",
      "Epoch 42/100\n",
      "800/800 [==============================] - 28s 35ms/step - loss: 0.2407 - accuracy: 0.9128 - val_loss: 1.8890 - val_accuracy: 0.6395\n",
      "Epoch 43/100\n",
      "800/800 [==============================] - 28s 35ms/step - loss: 0.2185 - accuracy: 0.9218 - val_loss: 1.9561 - val_accuracy: 0.6440\n",
      "Epoch 44/100\n",
      "800/800 [==============================] - 29s 36ms/step - loss: 0.2208 - accuracy: 0.9204 - val_loss: 1.9823 - val_accuracy: 0.6475\n",
      "Epoch 45/100\n",
      "800/800 [==============================] - 27s 34ms/step - loss: 0.2127 - accuracy: 0.9234 - val_loss: 2.0207 - val_accuracy: 0.6379\n",
      "Epoch 46/100\n",
      "800/800 [==============================] - 29s 36ms/step - loss: 0.1920 - accuracy: 0.9302 - val_loss: 2.1544 - val_accuracy: 0.6370\n",
      "Epoch 47/100\n",
      "800/800 [==============================] - 30s 37ms/step - loss: 0.1971 - accuracy: 0.9283 - val_loss: 2.1197 - val_accuracy: 0.6402\n",
      "Epoch 48/100\n",
      "800/800 [==============================] - 28s 34ms/step - loss: 0.1938 - accuracy: 0.9304 - val_loss: 2.2437 - val_accuracy: 0.6414\n",
      "Epoch 49/100\n",
      "800/800 [==============================] - 27s 34ms/step - loss: 0.1802 - accuracy: 0.9347 - val_loss: 2.2955 - val_accuracy: 0.6399\n",
      "Epoch 50/100\n",
      "800/800 [==============================] - 26s 33ms/step - loss: 0.1907 - accuracy: 0.9299 - val_loss: 2.3329 - val_accuracy: 0.6402\n",
      "Epoch 51/100\n",
      "800/800 [==============================] - 26s 33ms/step - loss: 0.1822 - accuracy: 0.9330 - val_loss: 2.3781 - val_accuracy: 0.6341\n",
      "Epoch 52/100\n",
      "800/800 [==============================] - 28s 34ms/step - loss: 0.1835 - accuracy: 0.9341 - val_loss: 2.3374 - val_accuracy: 0.6353\n",
      "Epoch 53/100\n",
      "800/800 [==============================] - 30s 38ms/step - loss: 0.1586 - accuracy: 0.9434 - val_loss: 2.4464 - val_accuracy: 0.6407\n",
      "Epoch 54/100\n",
      "800/800 [==============================] - 27s 34ms/step - loss: 0.1628 - accuracy: 0.9413 - val_loss: 2.5400 - val_accuracy: 0.6337\n",
      "Epoch 55/100\n",
      "800/800 [==============================] - 28s 35ms/step - loss: 0.1675 - accuracy: 0.9393 - val_loss: 2.5206 - val_accuracy: 0.6357\n",
      "Epoch 56/100\n",
      "800/800 [==============================] - 28s 35ms/step - loss: 0.1549 - accuracy: 0.9445 - val_loss: 2.5829 - val_accuracy: 0.6364\n",
      "Epoch 57/100\n",
      "800/800 [==============================] - 28s 35ms/step - loss: 0.1513 - accuracy: 0.9463 - val_loss: 2.6372 - val_accuracy: 0.6334\n",
      "Epoch 58/100\n",
      "800/800 [==============================] - 31s 39ms/step - loss: 0.1421 - accuracy: 0.9502 - val_loss: 2.6410 - val_accuracy: 0.6356\n",
      "Epoch 59/100\n",
      "800/800 [==============================] - 34s 43ms/step - loss: 0.1581 - accuracy: 0.9420 - val_loss: 2.6522 - val_accuracy: 0.6343\n",
      "Epoch 60/100\n",
      "800/800 [==============================] - 28s 35ms/step - loss: 0.1476 - accuracy: 0.9469 - val_loss: 2.7238 - val_accuracy: 0.6292\n",
      "Epoch 61/100\n",
      "800/800 [==============================] - 25s 31ms/step - loss: 0.1435 - accuracy: 0.9490 - val_loss: 2.7077 - val_accuracy: 0.6391\n",
      "Epoch 62/100\n",
      "800/800 [==============================] - 24s 31ms/step - loss: 0.1448 - accuracy: 0.9484 - val_loss: 2.8271 - val_accuracy: 0.6329\n",
      "Epoch 63/100\n",
      "800/800 [==============================] - 28s 35ms/step - loss: 0.1431 - accuracy: 0.9491 - val_loss: 2.9960 - val_accuracy: 0.6217\n",
      "Epoch 64/100\n",
      "800/800 [==============================] - 28s 35ms/step - loss: 0.1475 - accuracy: 0.9466 - val_loss: 2.9386 - val_accuracy: 0.6308\n",
      "Epoch 65/100\n",
      "800/800 [==============================] - 31s 39ms/step - loss: 0.1340 - accuracy: 0.9533 - val_loss: 2.8531 - val_accuracy: 0.6396\n",
      "Epoch 66/100\n",
      "800/800 [==============================] - 28s 35ms/step - loss: 0.1219 - accuracy: 0.9565 - val_loss: 3.0777 - val_accuracy: 0.63041 - accu\n",
      "Epoch 67/100\n",
      "800/800 [==============================] - 25s 32ms/step - loss: 0.1436 - accuracy: 0.9509 - val_loss: 2.9484 - val_accuracy: 0.6341\n",
      "Epoch 68/100\n",
      "800/800 [==============================] - 34s 43ms/step - loss: 0.1338 - accuracy: 0.9520 - val_loss: 3.0042 - val_accuracy: 0.6308\n",
      "Epoch 69/100\n",
      "800/800 [==============================] - 46s 58ms/step - loss: 0.1259 - accuracy: 0.9558 - val_loss: 3.0184 - val_accuracy: 0.6300\n",
      "Epoch 70/100\n",
      "800/800 [==============================] - 26s 32ms/step - loss: 0.1395 - accuracy: 0.9498 - val_loss: 3.0145 - val_accuracy: 0.6298\n",
      "Epoch 71/100\n",
      "800/800 [==============================] - 28s 35ms/step - loss: 0.1333 - accuracy: 0.9538 - val_loss: 3.0797 - val_accuracy: 0.6276\n",
      "Epoch 72/100\n",
      "800/800 [==============================] - 26s 32ms/step - loss: 0.1099 - accuracy: 0.9610 - val_loss: 3.2105 - val_accuracy: 0.6298\n",
      "Epoch 73/100\n",
      "800/800 [==============================] - 25s 32ms/step - loss: 0.1378 - accuracy: 0.9509 - val_loss: 3.2324 - val_accuracy: 0.6357\n",
      "Epoch 74/100\n",
      "800/800 [==============================] - 26s 32ms/step - loss: 0.1233 - accuracy: 0.9562 - val_loss: 3.2556 - val_accuracy: 0.6289\n",
      "Epoch 75/100\n",
      "800/800 [==============================] - 27s 34ms/step - loss: 0.1182 - accuracy: 0.9582 - val_loss: 3.2238 - val_accuracy: 0.6403\n",
      "Epoch 76/100\n",
      "800/800 [==============================] - 25s 31ms/step - loss: 0.1498 - accuracy: 0.9488 - val_loss: 3.1101 - val_accuracy: 0.6348\n",
      "Epoch 77/100\n",
      "800/800 [==============================] - 27s 34ms/step - loss: 0.1148 - accuracy: 0.9610 - val_loss: 3.1614 - val_accuracy: 0.6265\n",
      "Epoch 78/100\n",
      "800/800 [==============================] - 26s 32ms/step - loss: 0.1198 - accuracy: 0.9574 - val_loss: 3.2994 - val_accuracy: 0.6382\n",
      "Epoch 79/100\n",
      "800/800 [==============================] - 25s 31ms/step - loss: 0.1117 - accuracy: 0.9609 - val_loss: 3.3037 - val_accuracy: 0.6289\n",
      "Epoch 80/100\n",
      "800/800 [==============================] - 26s 32ms/step - loss: 0.1217 - accuracy: 0.9578 - val_loss: 3.2423 - val_accuracy: 0.6255\n",
      "Epoch 81/100\n",
      "800/800 [==============================] - 27s 34ms/step - loss: 0.1056 - accuracy: 0.9626 - val_loss: 3.4489 - val_accuracy: 0.6284\n",
      "Epoch 82/100\n",
      "800/800 [==============================] - 28s 35ms/step - loss: 0.1185 - accuracy: 0.9585 - val_loss: 3.3466 - val_accuracy: 0.6284\n",
      "Epoch 83/100\n",
      "800/800 [==============================] - 26s 32ms/step - loss: 0.1096 - accuracy: 0.9622 - val_loss: 3.3990 - val_accuracy: 0.6276\n",
      "Epoch 84/100\n",
      "800/800 [==============================] - 25s 32ms/step - loss: 0.1129 - accuracy: 0.9607 - val_loss: 3.4732 - val_accuracy: 0.6282\n",
      "Epoch 85/100\n",
      "800/800 [==============================] - 26s 32ms/step - loss: 0.1107 - accuracy: 0.9617 - val_loss: 3.5723 - val_accuracy: 0.6340\n",
      "Epoch 86/100\n",
      "800/800 [==============================] - 25s 32ms/step - loss: 0.1264 - accuracy: 0.9570 - val_loss: 3.4921 - val_accuracy: 0.6366\n",
      "Epoch 87/100\n",
      "800/800 [==============================] - 27s 34ms/step - loss: 0.1206 - accuracy: 0.9590 - val_loss: 3.4520 - val_accuracy: 0.6315\n",
      "Epoch 88/100\n",
      "800/800 [==============================] - 26s 33ms/step - loss: 0.1001 - accuracy: 0.9654 - val_loss: 3.4772 - val_accuracy: 0.6373\n",
      "Epoch 89/100\n",
      "800/800 [==============================] - 26s 32ms/step - loss: 0.1134 - accuracy: 0.9606 - val_loss: 3.4286 - val_accuracy: 0.6275\n",
      "Epoch 90/100\n",
      "800/800 [==============================] - 27s 33ms/step - loss: 0.1155 - accuracy: 0.9607 - val_loss: 3.6222 - val_accuracy: 0.6313\n",
      "Epoch 91/100\n",
      "800/800 [==============================] - 25s 32ms/step - loss: 0.1115 - accuracy: 0.9616 - val_loss: 3.5980 - val_accuracy: 0.6348\n",
      "Epoch 92/100\n",
      "800/800 [==============================] - 27s 33ms/step - loss: 0.1186 - accuracy: 0.9592 - val_loss: 3.6741 - val_accuracy: 0.6246\n",
      "Epoch 93/100\n",
      "800/800 [==============================] - 28s 35ms/step - loss: 0.0999 - accuracy: 0.9660 - val_loss: 3.7446 - val_accuracy: 0.6264\n",
      "Epoch 94/100\n",
      "800/800 [==============================] - 59s 74ms/step - loss: 0.1184 - accuracy: 0.9610 - val_loss: 3.5500 - val_accuracy: 0.6327\n",
      "Epoch 95/100\n",
      "800/800 [==============================] - 61s 76ms/step - loss: 0.0978 - accuracy: 0.9662 - val_loss: 3.7608 - val_accuracy: 0.6329\n",
      "Epoch 96/100\n",
      "800/800 [==============================] - 36s 45ms/step - loss: 0.1116 - accuracy: 0.9625 - val_loss: 3.6851 - val_accuracy: 0.6274\n",
      "Epoch 97/100\n",
      "800/800 [==============================] - 28s 35ms/step - loss: 0.1081 - accuracy: 0.9636 - val_loss: 3.7949 - val_accuracy: 0.6312\n",
      "Epoch 98/100\n",
      "800/800 [==============================] - 27s 33ms/step - loss: 0.1044 - accuracy: 0.9653 - val_loss: 3.6275 - val_accuracy: 0.6311\n",
      "Epoch 99/100\n",
      "800/800 [==============================] - 26s 33ms/step - loss: 0.1075 - accuracy: 0.9636 - val_loss: 3.9002 - val_accuracy: 0.6200\n",
      "Epoch 100/100\n",
      "800/800 [==============================] - 35s 44ms/step - loss: 0.0844 - accuracy: 0.9705 - val_loss: 3.8387 - val_accuracy: 0.6234\n"
     ]
    }
   ],
   "source": [
    "history = model.fit(input_train, target_train,\n",
    "            batch_size=batch_size,\n",
    "            epochs=no_epochs,\n",
    "            verbose=verbosity,\n",
    "            validation_split=validation_split)"
   ]
  },
  {
   "cell_type": "code",
   "execution_count": 78,
   "metadata": {},
   "outputs": [
    {
     "name": "stdout",
     "output_type": "stream",
     "text": [
      "Test loss: 3.83459734916687 / Test accuracy: 0.6226000189781189\n"
     ]
    }
   ],
   "source": [
    "score = model.evaluate(input_test, target_test, verbose=0)\n",
    "print(f'Test loss: {score[0]} / Test accuracy: {score[1]}')"
   ]
  },
  {
   "cell_type": "code",
   "execution_count": 79,
   "metadata": {},
   "outputs": [
    {
     "data": {
      "image/png": "[encoded data removed]",
      "text/plain": [
       "<Figure size 432x288 with 1 Axes>"
      ]
     },
     "metadata": {
      "needs_background": "light"
     },
     "output_type": "display_data"
    }
   ],
   "source": [
    "plt.plot(history.history['val_loss'])\n",
    "plt.title('Validation loss history')\n",
    "plt.ylabel('Loss value')\n",
    "plt.xlabel('No. epoch')\n",
    "plt.show()"
   ]
  },
  {
   "cell_type": "code",
   "execution_count": 80,
   "metadata": {},
   "outputs": [
    {
     "data": {
      "image/png": "[encoded data removed]",
      "text/plain": [
       "<Figure size 432x288 with 1 Axes>"
      ]
     },
     "metadata": {
      "needs_background": "light"
     },
     "output_type": "display_data"
    }
   ],
   "source": [
    "plt.plot(history.history['val_accuracy'])\n",
    "plt.title('Validation accuracy history')\n",
    "plt.ylabel('Accuracy value (%)')\n",
    "plt.xlabel('No. epoch')\n",
    "plt.show()"
   ]
  },
  {
   "cell_type": "code",
   "execution_count": 81,
   "metadata": {},
   "outputs": [],
   "source": [
    "model = Sequential()\n",
    "model.add(Conv2D(32,(3,3), activation = 'relu', kernel_initializer = 'he_uniform', padding = 'same', input_shape = (32,32,3)))\n",
    "model.add(MaxPooling2D((2,2)))\n",
    "  \n",
    "model.add(Flatten())\n",
    "model.add(Dense(128, activation = 'relu', kernel_initializer = 'he_uniform'))\n",
    "model.add(Dense(10, activation = 'softmax'))"
   ]
  },
  {
   "cell_type": "code",
   "execution_count": 82,
   "metadata": {},
   "outputs": [],
   "source": [
    "model.compile(loss=loss_function,\n",
    "              optimizer=optimizer,\n",
    "              metrics=['accuracy'])"
   ]
  },
  {
   "cell_type": "code",
   "execution_count": 83,
   "metadata": {},
   "outputs": [
    {
     "name": "stdout",
     "output_type": "stream",
     "text": [
      "Epoch 1/100\n",
      "800/800 [==============================] - 21s 27ms/step - loss: 1.7103 - accuracy: 0.4301 - val_loss: 1.3438 - val_accuracy: 0.5233\n",
      "Epoch 2/100\n",
      "800/800 [==============================] - 19s 24ms/step - loss: 1.2291 - accuracy: 0.5649 - val_loss: 1.2639 - val_accuracy: 0.5566\n",
      "Epoch 3/100\n",
      "800/800 [==============================] - 18s 23ms/step - loss: 1.1190 - accuracy: 0.6055 - val_loss: 1.2146 - val_accuracy: 0.5820\n",
      "Epoch 4/100\n",
      "800/800 [==============================] - 18s 23ms/step - loss: 1.0467 - accuracy: 0.6329 - val_loss: 1.1560 - val_accuracy: 0.5959\n",
      "Epoch 5/100\n",
      "800/800 [==============================] - 18s 23ms/step - loss: 0.9856 - accuracy: 0.6538 - val_loss: 1.1274 - val_accuracy: 0.6034\n",
      "Epoch 6/100\n",
      "800/800 [==============================] - 17s 21ms/step - loss: 0.9323 - accuracy: 0.6745 - val_loss: 1.1194 - val_accuracy: 0.6114\n",
      "Epoch 7/100\n",
      "800/800 [==============================] - 18s 22ms/step - loss: 0.8849 - accuracy: 0.6923 - val_loss: 1.1293 - val_accuracy: 0.6083\n",
      "Epoch 8/100\n",
      "800/800 [==============================] - 19s 24ms/step - loss: 0.8357 - accuracy: 0.7105 - val_loss: 1.1489 - val_accuracy: 0.6092\n",
      "Epoch 9/100\n",
      "800/800 [==============================] - 18s 22ms/step - loss: 0.7998 - accuracy: 0.7229 - val_loss: 1.1622 - val_accuracy: 0.6059\n",
      "Epoch 10/100\n",
      "800/800 [==============================] - 18s 22ms/step - loss: 0.7573 - accuracy: 0.7367 - val_loss: 1.1604 - val_accuracy: 0.6097\n",
      "Epoch 11/100\n",
      "800/800 [==============================] - 18s 22ms/step - loss: 0.7168 - accuracy: 0.7517 - val_loss: 1.1609 - val_accuracy: 0.6180\n",
      "Epoch 12/100\n",
      "800/800 [==============================] - 18s 22ms/step - loss: 0.6778 - accuracy: 0.7646 - val_loss: 1.1719 - val_accuracy: 0.6217\n",
      "Epoch 13/100\n",
      "800/800 [==============================] - 18s 22ms/step - loss: 0.6412 - accuracy: 0.7782 - val_loss: 1.2016 - val_accuracy: 0.6143\n",
      "Epoch 14/100\n",
      "800/800 [==============================] - 18s 23ms/step - loss: 0.6016 - accuracy: 0.7955 - val_loss: 1.2152 - val_accuracy: 0.6151\n",
      "Epoch 15/100\n",
      "800/800 [==============================] - 18s 22ms/step - loss: 0.5721 - accuracy: 0.8041 - val_loss: 1.2395 - val_accuracy: 0.6151\n",
      "Epoch 16/100\n",
      "800/800 [==============================] - 18s 22ms/step - loss: 0.5403 - accuracy: 0.8162 - val_loss: 1.2880 - val_accuracy: 0.6123\n",
      "Epoch 17/100\n",
      "800/800 [==============================] - 18s 22ms/step - loss: 0.5103 - accuracy: 0.8268 - val_loss: 1.3434 - val_accuracy: 0.6106\n",
      "Epoch 18/100\n",
      "800/800 [==============================] - 18s 22ms/step - loss: 0.4843 - accuracy: 0.8363 - val_loss: 1.3328 - val_accuracy: 0.6152\n",
      "Epoch 19/100\n",
      "800/800 [==============================] - 18s 22ms/step - loss: 0.4599 - accuracy: 0.8425 - val_loss: 1.4107 - val_accuracy: 0.6082\n",
      "Epoch 20/100\n",
      "800/800 [==============================] - 18s 22ms/step - loss: 0.4305 - accuracy: 0.8547 - val_loss: 1.4224 - val_accuracy: 0.6048\n",
      "Epoch 21/100\n",
      "800/800 [==============================] - 18s 22ms/step - loss: 0.4068 - accuracy: 0.8635 - val_loss: 1.5416 - val_accuracy: 0.5970\n",
      "Epoch 22/100\n",
      "800/800 [==============================] - 18s 23ms/step - loss: 0.3860 - accuracy: 0.8716 - val_loss: 1.5872 - val_accuracy: 0.5941\n",
      "Epoch 23/100\n",
      "800/800 [==============================] - 18s 22ms/step - loss: 0.3615 - accuracy: 0.8782 - val_loss: 1.5991 - val_accuracy: 0.5983\n",
      "Epoch 24/100\n",
      "800/800 [==============================] - 18s 22ms/step - loss: 0.3463 - accuracy: 0.8853 - val_loss: 1.7207 - val_accuracy: 0.5901\n",
      "Epoch 25/100\n",
      "800/800 [==============================] - 18s 22ms/step - loss: 0.3230 - accuracy: 0.8921 - val_loss: 1.7261 - val_accuracy: 0.5954\n",
      "Epoch 26/100\n",
      "800/800 [==============================] - 18s 22ms/step - loss: 0.3005 - accuracy: 0.9021 - val_loss: 1.7720 - val_accuracy: 0.5960\n",
      "Epoch 27/100\n",
      "800/800 [==============================] - 18s 22ms/step - loss: 0.2862 - accuracy: 0.9061 - val_loss: 1.8628 - val_accuracy: 0.5953\n",
      "Epoch 28/100\n",
      "800/800 [==============================] - 18s 22ms/step - loss: 0.2643 - accuracy: 0.9153 - val_loss: 1.9348 - val_accuracy: 0.5891\n",
      "Epoch 29/100\n",
      "800/800 [==============================] - 18s 23ms/step - loss: 0.2477 - accuracy: 0.9202 - val_loss: 1.9479 - val_accuracy: 0.5958\n",
      "Epoch 30/100\n",
      "800/800 [==============================] - 18s 22ms/step - loss: 0.2361 - accuracy: 0.9227 - val_loss: 2.0540 - val_accuracy: 0.5867\n",
      "Epoch 31/100\n",
      "800/800 [==============================] - 18s 22ms/step - loss: 0.2198 - accuracy: 0.9282 - val_loss: 2.1358 - val_accuracy: 0.5887\n",
      "Epoch 32/100\n",
      "800/800 [==============================] - 18s 22ms/step - loss: 0.2044 - accuracy: 0.9354 - val_loss: 2.1553 - val_accuracy: 0.5877\n",
      "Epoch 33/100\n",
      "800/800 [==============================] - 18s 23ms/step - loss: 0.1878 - accuracy: 0.9405 - val_loss: 2.3169 - val_accuracy: 0.5814\n",
      "Epoch 34/100\n",
      "800/800 [==============================] - 18s 22ms/step - loss: 0.1798 - accuracy: 0.9447 - val_loss: 2.3258 - val_accuracy: 0.5878\n",
      "Epoch 35/100\n",
      "800/800 [==============================] - 18s 22ms/step - loss: 0.1730 - accuracy: 0.9453 - val_loss: 2.4359 - val_accuracy: 0.5821\n",
      "Epoch 36/100\n",
      "800/800 [==============================] - 17s 21ms/step - loss: 0.1572 - accuracy: 0.9509 - val_loss: 2.5021 - val_accuracy: 0.5859\n",
      "Epoch 37/100\n",
      "800/800 [==============================] - 18s 22ms/step - loss: 0.1520 - accuracy: 0.9526 - val_loss: 2.5918 - val_accuracy: 0.5773\n",
      "Epoch 38/100\n",
      "800/800 [==============================] - 18s 22ms/step - loss: 0.1419 - accuracy: 0.9556 - val_loss: 2.7115 - val_accuracy: 0.5663\n",
      "Epoch 39/100\n",
      "800/800 [==============================] - 18s 23ms/step - loss: 0.1304 - accuracy: 0.9597 - val_loss: 2.7031 - val_accuracy: 0.5870\n",
      "Epoch 40/100\n",
      "800/800 [==============================] - 18s 22ms/step - loss: 0.1178 - accuracy: 0.9648 - val_loss: 2.7696 - val_accuracy: 0.5826\n",
      "Epoch 41/100\n",
      "800/800 [==============================] - 18s 22ms/step - loss: 0.1205 - accuracy: 0.9625 - val_loss: 2.9449 - val_accuracy: 0.5768\n",
      "Epoch 42/100\n",
      "800/800 [==============================] - 18s 22ms/step - loss: 0.1122 - accuracy: 0.9662 - val_loss: 2.9313 - val_accuracy: 0.5784\n",
      "Epoch 43/100\n",
      "800/800 [==============================] - 18s 22ms/step - loss: 0.1062 - accuracy: 0.9673 - val_loss: 3.0164 - val_accuracy: 0.5806\n",
      "Epoch 44/100\n",
      "800/800 [==============================] - 18s 22ms/step - loss: 0.1034 - accuracy: 0.9683 - val_loss: 3.0623 - val_accuracy: 0.5778\n",
      "Epoch 45/100\n",
      "800/800 [==============================] - 18s 22ms/step - loss: 0.0937 - accuracy: 0.9712 - val_loss: 3.2017 - val_accuracy: 0.5761\n",
      "Epoch 46/100\n",
      "800/800 [==============================] - 18s 22ms/step - loss: 0.0840 - accuracy: 0.9764 - val_loss: 3.2510 - val_accuracy: 0.5742\n",
      "Epoch 47/100\n",
      "800/800 [==============================] - 18s 23ms/step - loss: 0.0877 - accuracy: 0.9733 - val_loss: 3.3503 - val_accuracy: 0.5668\n",
      "Epoch 48/100\n",
      "800/800 [==============================] - 18s 22ms/step - loss: 0.0878 - accuracy: 0.9732 - val_loss: 3.3713 - val_accuracy: 0.5778\n",
      "Epoch 49/100\n",
      "800/800 [==============================] - 18s 22ms/step - loss: 0.0930 - accuracy: 0.9708 - val_loss: 3.4649 - val_accuracy: 0.5776\n",
      "Epoch 50/100\n",
      "800/800 [==============================] - 18s 22ms/step - loss: 0.0749 - accuracy: 0.9780 - val_loss: 3.6309 - val_accuracy: 0.5733\n",
      "Epoch 51/100\n",
      "800/800 [==============================] - 18s 22ms/step - loss: 0.0731 - accuracy: 0.9782 - val_loss: 3.6087 - val_accuracy: 0.5764\n",
      "Epoch 52/100\n",
      "800/800 [==============================] - 18s 22ms/step - loss: 0.0661 - accuracy: 0.9808 - val_loss: 3.6979 - val_accuracy: 0.5716\n",
      "Epoch 53/100\n",
      "800/800 [==============================] - 18s 22ms/step - loss: 0.0759 - accuracy: 0.9773 - val_loss: 3.7263 - val_accuracy: 0.5719\n",
      "Epoch 54/100\n",
      "800/800 [==============================] - 18s 22ms/step - loss: 0.0716 - accuracy: 0.9775 - val_loss: 3.7716 - val_accuracy: 0.5707\n",
      "Epoch 55/100\n",
      "800/800 [==============================] - 18s 22ms/step - loss: 0.0636 - accuracy: 0.9812 - val_loss: 3.9017 - val_accuracy: 0.5692\n",
      "Epoch 56/100\n",
      "800/800 [==============================] - 19s 24ms/step - loss: 0.0629 - accuracy: 0.9812 - val_loss: 4.0066 - val_accuracy: 0.5722\n",
      "Epoch 57/100\n",
      "800/800 [==============================] - 17s 21ms/step - loss: 0.0678 - accuracy: 0.9782 - val_loss: 3.9574 - val_accuracy: 0.5676\n",
      "Epoch 58/100\n",
      "800/800 [==============================] - 17s 21ms/step - loss: 0.0530 - accuracy: 0.9855 - val_loss: 4.1101 - val_accuracy: 0.5733\n",
      "Epoch 59/100\n",
      "800/800 [==============================] - 17s 22ms/step - loss: 0.0646 - accuracy: 0.9799 - val_loss: 4.2559 - val_accuracy: 0.5627\n",
      "Epoch 60/100\n",
      "800/800 [==============================] - 17s 22ms/step - loss: 0.0538 - accuracy: 0.9833 - val_loss: 4.1948 - val_accuracy: 0.5707\n",
      "Epoch 61/100\n",
      "800/800 [==============================] - 17s 22ms/step - loss: 0.0615 - accuracy: 0.9812 - val_loss: 4.2320 - val_accuracy: 0.5622\n",
      "Epoch 62/100\n",
      "800/800 [==============================] - 17s 21ms/step - loss: 0.0610 - accuracy: 0.9810 - val_loss: 4.1699 - val_accuracy: 0.5698\n",
      "Epoch 63/100\n",
      "800/800 [==============================] - 17s 22ms/step - loss: 0.0519 - accuracy: 0.9840 - val_loss: 4.4542 - val_accuracy: 0.5641\n",
      "Epoch 64/100\n",
      "800/800 [==============================] - 17s 22ms/step - loss: 0.0499 - accuracy: 0.9852 - val_loss: 4.4031 - val_accuracy: 0.5673\n",
      "Epoch 65/100\n",
      "800/800 [==============================] - 17s 21ms/step - loss: 0.0642 - accuracy: 0.9789 - val_loss: 4.4212 - val_accuracy: 0.5731\n",
      "Epoch 66/100\n",
      "800/800 [==============================] - 17s 21ms/step - loss: 0.0483 - accuracy: 0.9851 - val_loss: 4.4787 - val_accuracy: 0.5626\n",
      "Epoch 67/100\n",
      "800/800 [==============================] - 17s 21ms/step - loss: 0.0613 - accuracy: 0.9802 - val_loss: 4.4765 - val_accuracy: 0.5730\n",
      "Epoch 68/100\n",
      "800/800 [==============================] - 17s 21ms/step - loss: 0.0396 - accuracy: 0.9887 - val_loss: 4.5551 - val_accuracy: 0.5676\n",
      "Epoch 69/100\n",
      "800/800 [==============================] - 17s 22ms/step - loss: 0.0438 - accuracy: 0.9867 - val_loss: 4.5758 - val_accuracy: 0.5715\n",
      "Epoch 70/100\n",
      "800/800 [==============================] - 17s 22ms/step - loss: 0.0379 - accuracy: 0.9891 - val_loss: 4.7731 - val_accuracy: 0.5654\n",
      "Epoch 71/100\n",
      "800/800 [==============================] - 17s 21ms/step - loss: 0.0847 - accuracy: 0.9716 - val_loss: 4.7588 - val_accuracy: 0.5653\n",
      "Epoch 72/100\n",
      "800/800 [==============================] - 17s 21ms/step - loss: 0.0418 - accuracy: 0.9873 - val_loss: 4.8286 - val_accuracy: 0.5683\n",
      "Epoch 73/100\n",
      "800/800 [==============================] - 17s 22ms/step - loss: 0.0378 - accuracy: 0.9890 - val_loss: 4.8876 - val_accuracy: 0.5651\n",
      "Epoch 74/100\n",
      "800/800 [==============================] - 17s 21ms/step - loss: 0.0428 - accuracy: 0.9870 - val_loss: 5.0143 - val_accuracy: 0.5639\n",
      "Epoch 75/100\n",
      "800/800 [==============================] - 17s 21ms/step - loss: 0.0461 - accuracy: 0.9855 - val_loss: 4.9698 - val_accuracy: 0.5643\n",
      "Epoch 76/100\n",
      "800/800 [==============================] - 17s 21ms/step - loss: 0.0535 - accuracy: 0.9820 - val_loss: 4.8954 - val_accuracy: 0.5756\n",
      "Epoch 77/100\n",
      "800/800 [==============================] - 17s 21ms/step - loss: 0.0292 - accuracy: 0.9920 - val_loss: 5.0278 - val_accuracy: 0.5619curacy: 0.\n",
      "Epoch 78/100\n",
      "800/800 [==============================] - 17s 22ms/step - loss: 0.0444 - accuracy: 0.9862 - val_loss: 5.1881 - val_accuracy: 0.5601\n",
      "Epoch 79/100\n",
      "800/800 [==============================] - 17s 21ms/step - loss: 0.0594 - accuracy: 0.9813 - val_loss: 5.2234 - val_accuracy: 0.5622\n",
      "Epoch 80/100\n",
      "800/800 [==============================] - 18s 22ms/step - loss: 0.0463 - accuracy: 0.9861 - val_loss: 5.1703 - val_accuracy: 0.5596\n",
      "Epoch 81/100\n",
      "800/800 [==============================] - 20s 25ms/step - loss: 0.0456 - accuracy: 0.9850 - val_loss: 5.2342 - val_accuracy: 0.5610\n",
      "Epoch 82/100\n",
      "800/800 [==============================] - 18s 22ms/step - loss: 0.0397 - accuracy: 0.9879 - val_loss: 5.2056 - val_accuracy: 0.5640\n",
      "Epoch 83/100\n",
      "800/800 [==============================] - 18s 23ms/step - loss: 0.0424 - accuracy: 0.9869 - val_loss: 5.2342 - val_accuracy: 0.5709\n",
      "Epoch 84/100\n",
      "800/800 [==============================] - 18s 23ms/step - loss: 0.0405 - accuracy: 0.9879 - val_loss: 5.3095 - val_accuracy: 0.5611\n",
      "Epoch 85/100\n",
      "800/800 [==============================] - 18s 22ms/step - loss: 0.0566 - accuracy: 0.9814 - val_loss: 5.2949 - val_accuracy: 0.5686\n",
      "Epoch 86/100\n",
      "800/800 [==============================] - 18s 22ms/step - loss: 0.0377 - accuracy: 0.9888 - val_loss: 5.2837 - val_accuracy: 0.5619\n",
      "Epoch 87/100\n",
      "800/800 [==============================] - 18s 22ms/step - loss: 0.0388 - accuracy: 0.9870 - val_loss: 5.4626 - val_accuracy: 0.5601\n",
      "Epoch 88/100\n",
      "800/800 [==============================] - 18s 22ms/step - loss: 0.0301 - accuracy: 0.9911 - val_loss: 5.5556 - val_accuracy: 0.5715\n",
      "Epoch 89/100\n",
      "800/800 [==============================] - 18s 22ms/step - loss: 0.0501 - accuracy: 0.9841 - val_loss: 5.4788 - val_accuracy: 0.5658\n",
      "Epoch 90/100\n",
      "800/800 [==============================] - 18s 23ms/step - loss: 0.0352 - accuracy: 0.9892 - val_loss: 5.5096 - val_accuracy: 0.5645\n",
      "Epoch 91/100\n",
      "800/800 [==============================] - 18s 22ms/step - loss: 0.0654 - accuracy: 0.9806 - val_loss: 5.5128 - val_accuracy: 0.5646\n",
      "Epoch 92/100\n",
      "800/800 [==============================] - 18s 22ms/step - loss: 0.0417 - accuracy: 0.9873 - val_loss: 5.5405 - val_accuracy: 0.5690\n",
      "Epoch 93/100\n",
      "800/800 [==============================] - 18s 23ms/step - loss: 0.0278 - accuracy: 0.9916 - val_loss: 5.8214 - val_accuracy: 0.5641\n",
      "Epoch 94/100\n",
      "800/800 [==============================] - 18s 22ms/step - loss: 0.0427 - accuracy: 0.9865 - val_loss: 5.6082 - val_accuracy: 0.5654\n",
      "Epoch 95/100\n",
      "800/800 [==============================] - 18s 22ms/step - loss: 0.0395 - accuracy: 0.9869 - val_loss: 5.7572 - val_accuracy: 0.5672\n",
      "Epoch 96/100\n",
      "800/800 [==============================] - 18s 22ms/step - loss: 0.0388 - accuracy: 0.9880 - val_loss: 5.6576 - val_accuracy: 0.5675\n",
      "Epoch 97/100\n",
      "800/800 [==============================] - 18s 22ms/step - loss: 0.0357 - accuracy: 0.9888 - val_loss: 5.6610 - val_accuracy: 0.5635\n",
      "Epoch 98/100\n",
      "800/800 [==============================] - 18s 22ms/step - loss: 0.0394 - accuracy: 0.9876 - val_loss: 5.8125 - val_accuracy: 0.5671\n",
      "Epoch 99/100\n",
      "800/800 [==============================] - 18s 23ms/step - loss: 0.0332 - accuracy: 0.9893 - val_loss: 5.8050 - val_accuracy: 0.5617\n",
      "Epoch 100/100\n",
      "800/800 [==============================] - 18s 22ms/step - loss: 0.0341 - accuracy: 0.9887 - val_loss: 5.8941 - val_accuracy: 0.5621\n"
     ]
    }
   ],
   "source": [
    "vgg2 = model.fit(input_train, target_train,\n",
    "            batch_size=batch_size,\n",
    "            epochs=no_epochs,\n",
    "            verbose=verbosity,\n",
    "            validation_split=validation_split)"
   ]
  },
  {
   "cell_type": "code",
   "execution_count": 84,
   "metadata": {},
   "outputs": [
    {
     "name": "stdout",
     "output_type": "stream",
     "text": [
      "Test loss: 5.945140838623047 / Test accuracy: 0.5658000111579895\n"
     ]
    }
   ],
   "source": [
    "score = model.evaluate(input_test, target_test, verbose=0)\n",
    "print(f'Test loss: {score[0]} / Test accuracy: {score[1]}')"
   ]
  },
  {
   "cell_type": "code",
   "execution_count": 89,
   "metadata": {},
   "outputs": [
    {
     "data": {
      "image/png": "[encoded data removed]",
      "text/plain": [
       "<Figure size 432x288 with 1 Axes>"
      ]
     },
     "metadata": {
      "needs_background": "light"
     },
     "output_type": "display_data"
    }
   ],
   "source": [
    "plt.plot(vgg2.history['val_loss'])\n",
    "plt.title('Validation loss history')\n",
    "plt.ylabel('Loss value')\n",
    "plt.xlabel('No. epoch')\n",
    "plt.show()"
   ]
  },
  {
   "cell_type": "code",
   "execution_count": 90,
   "metadata": {},
   "outputs": [
    {
     "data": {
      "image/png": "[encoded data removed]",
      "text/plain": [
       "<Figure size 432x288 with 1 Axes>"
      ]
     },
     "metadata": {
      "needs_background": "light"
     },
     "output_type": "display_data"
    }
   ],
   "source": [
    "plt.plot(vgg2.history['val_accuracy'])\n",
    "plt.title('Validation accuracy history')\n",
    "plt.ylabel('Accuracy value (%)')\n",
    "plt.xlabel('No. epoch')\n",
    "plt.show()"
   ]
  },
  {
   "cell_type": "code",
   "execution_count": null,
   "metadata": {},
   "outputs": [],
   "source": []
  }
 ],
 "metadata": {
  "kernelspec": {
   "display_name": "Python 3",
   "language": "python",
   "name": "python3"
  },
  "language_info": {
   "codemirror_mode": {
    "name": "ipython",
    "version": 3
   },
   "file_extension": ".py",
   "mimetype": "text/x-python",
   "name": "python",
   "nbconvert_exporter": "python",
   "pygments_lexer": "ipython3",
   "version": "3.7.6"
  }
 },
 "nbformat": 4,
 "nbformat_minor": 4
}
